{
 "cells": [
  {
   "cell_type": "markdown",
   "id": "8b37310c",
   "metadata": {},
   "source": [
    "<h1>Exercises</h1>\n",
    "<h2>Set of exercises in order to familiarize with the Python concepts</h2>"
   ]
  },
  {
   "cell_type": "markdown",
   "id": "8b29c39c",
   "metadata": {},
   "source": [
    "<h3>C compilation process vs Python compilation process</h3>"
   ]
  },
  {
   "cell_type": "markdown",
   "id": "9afd6025",
   "metadata": {},
   "source": [
    "<h3>Lists vs Tuples vs Sets</h3>"
   ]
  },
  {
   "cell_type": "code",
   "execution_count": null,
   "id": "db502808",
   "metadata": {},
   "outputs": [],
   "source": [
    "list1 = [1,2,3,4]"
   ]
  },
  {
   "cell_type": "code",
   "execution_count": null,
   "id": "2422f14e",
   "metadata": {},
   "outputs": [],
   "source": [
    "print(list1)"
   ]
  },
  {
   "cell_type": "code",
   "execution_count": null,
   "id": "5933b79d",
   "metadata": {},
   "outputs": [],
   "source": [
    "for elem in list1:\n",
    "    print(elem)"
   ]
  },
  {
   "cell_type": "code",
   "execution_count": null,
   "id": "108615dc",
   "metadata": {},
   "outputs": [],
   "source": [
    "list1.append(5)"
   ]
  },
  {
   "cell_type": "code",
   "execution_count": null,
   "id": "6b830a93",
   "metadata": {},
   "outputs": [],
   "source": [
    "list1"
   ]
  },
  {
   "cell_type": "code",
   "execution_count": null,
   "id": "2f0dc6aa",
   "metadata": {},
   "outputs": [],
   "source": [
    "list1[0] = 13"
   ]
  },
  {
   "cell_type": "code",
   "execution_count": null,
   "id": "de67d476",
   "metadata": {},
   "outputs": [],
   "source": [
    "tuple1 = (1,2,3,4)"
   ]
  },
  {
   "cell_type": "code",
   "execution_count": null,
   "id": "538099c3",
   "metadata": {},
   "outputs": [],
   "source": [
    "print(tuple1)"
   ]
  },
  {
   "cell_type": "code",
   "execution_count": null,
   "id": "c85410ae",
   "metadata": {},
   "outputs": [],
   "source": [
    "tuple1[0] = 13"
   ]
  },
  {
   "cell_type": "code",
   "execution_count": null,
   "id": "cbce5e02",
   "metadata": {},
   "outputs": [],
   "source": [
    "type({1,2,3})"
   ]
  },
  {
   "cell_type": "code",
   "execution_count": null,
   "id": "1c8c5ef6",
   "metadata": {},
   "outputs": [],
   "source": [
    "set1 = {2,1,3}"
   ]
  },
  {
   "cell_type": "code",
   "execution_count": null,
   "id": "83946068",
   "metadata": {},
   "outputs": [],
   "source": [
    "print(set1)"
   ]
  },
  {
   "cell_type": "code",
   "execution_count": null,
   "id": "ea4de6f6",
   "metadata": {},
   "outputs": [],
   "source": [
    "set1.add(4)"
   ]
  },
  {
   "cell_type": "markdown",
   "id": "ab297eaa",
   "metadata": {},
   "source": [
    "<h3>Comments</h3>"
   ]
  },
  {
   "cell_type": "code",
   "execution_count": null,
   "id": "03242fb0",
   "metadata": {},
   "outputs": [],
   "source": [
    "#print('Test')"
   ]
  },
  {
   "cell_type": "code",
   "execution_count": null,
   "id": "ea3f382b",
   "metadata": {},
   "outputs": [],
   "source": [
    "print('Test')"
   ]
  },
  {
   "cell_type": "code",
   "execution_count": null,
   "id": "d92436a5",
   "metadata": {},
   "outputs": [],
   "source": [
    "# asdasd\n",
    "\n",
    "# asd\n",
    "# asd\n",
    "# as\n",
    "# das\n",
    "# das\n",
    "# d"
   ]
  },
  {
   "cell_type": "markdown",
   "id": "6a59e067",
   "metadata": {},
   "source": [
    "<h3>Dictionary</h3>"
   ]
  },
  {
   "cell_type": "code",
   "execution_count": null,
   "id": "8bf307dc",
   "metadata": {},
   "outputs": [],
   "source": [
    "dict1 = {}"
   ]
  },
  {
   "cell_type": "code",
   "execution_count": null,
   "id": "796b1962",
   "metadata": {},
   "outputs": [],
   "source": [
    "dict1['a'] = 1"
   ]
  },
  {
   "cell_type": "code",
   "execution_count": null,
   "id": "550e927d",
   "metadata": {},
   "outputs": [],
   "source": [
    "dict1"
   ]
  },
  {
   "cell_type": "code",
   "execution_count": null,
   "id": "1cdb65bd",
   "metadata": {},
   "outputs": [],
   "source": [
    "dict1['b'] = 2"
   ]
  },
  {
   "cell_type": "code",
   "execution_count": null,
   "id": "a81247f9",
   "metadata": {},
   "outputs": [],
   "source": [
    "dict1"
   ]
  },
  {
   "cell_type": "code",
   "execution_count": null,
   "id": "b49f1a81",
   "metadata": {},
   "outputs": [],
   "source": [
    "for key,value in dict1.items():\n",
    "    print(key)\n",
    "    print(value)"
   ]
  },
  {
   "cell_type": "code",
   "execution_count": null,
   "id": "54c5a1f2",
   "metadata": {},
   "outputs": [],
   "source": [
    "dict2 = {}"
   ]
  },
  {
   "cell_type": "code",
   "execution_count": null,
   "id": "43da74b2",
   "metadata": {},
   "outputs": [],
   "source": [
    "dict2['Marius'] = dict1"
   ]
  },
  {
   "cell_type": "code",
   "execution_count": null,
   "id": "9ce15346",
   "metadata": {},
   "outputs": [],
   "source": [
    "dict2"
   ]
  },
  {
   "cell_type": "code",
   "execution_count": null,
   "id": "916a5a3c",
   "metadata": {},
   "outputs": [],
   "source": [
    "for key,value in dict2.items():\n",
    "    print(key)\n",
    "    for key1,value1 in value.items():\n",
    "        print(key1)\n",
    "        print(value1)\n",
    "    "
   ]
  },
  {
   "cell_type": "markdown",
   "id": "2a48594f",
   "metadata": {},
   "source": [
    "<h3>List comprehension</h3>"
   ]
  },
  {
   "cell_type": "code",
   "execution_count": null,
   "id": "371102ab",
   "metadata": {},
   "outputs": [],
   "source": [
    "list1 = [i for i in range(5)]"
   ]
  },
  {
   "cell_type": "code",
   "execution_count": null,
   "id": "8d030743",
   "metadata": {},
   "outputs": [],
   "source": [
    "list1"
   ]
  },
  {
   "cell_type": "code",
   "execution_count": null,
   "id": "c3d37314",
   "metadata": {},
   "outputs": [],
   "source": [
    "tuple1 = (i for i in range(6))"
   ]
  },
  {
   "cell_type": "code",
   "execution_count": null,
   "id": "c12dc604",
   "metadata": {},
   "outputs": [],
   "source": [
    "for elem in tuple1:\n",
    "    print(elem)"
   ]
  },
  {
   "cell_type": "code",
   "execution_count": null,
   "id": "85c7da07",
   "metadata": {},
   "outputs": [],
   "source": [
    "set1 = {i+1 for i in range(5)}"
   ]
  },
  {
   "cell_type": "code",
   "execution_count": null,
   "id": "e58e9c21",
   "metadata": {},
   "outputs": [],
   "source": [
    "set1"
   ]
  },
  {
   "cell_type": "code",
   "execution_count": null,
   "id": "fed01821",
   "metadata": {},
   "outputs": [],
   "source": [
    "even_numbers= [i for i in range(10) if (i%2 == 0)]"
   ]
  },
  {
   "cell_type": "code",
   "execution_count": null,
   "id": "f1f30823",
   "metadata": {},
   "outputs": [],
   "source": [
    "even_numbers"
   ]
  },
  {
   "cell_type": "code",
   "execution_count": null,
   "id": "0eaaf6f9",
   "metadata": {},
   "outputs": [],
   "source": [
    "squares = [i*i for i in range(10)]"
   ]
  },
  {
   "cell_type": "code",
   "execution_count": null,
   "id": "7029ead4",
   "metadata": {},
   "outputs": [],
   "source": [
    "squares"
   ]
  },
  {
   "cell_type": "markdown",
   "id": "c42ef2b1",
   "metadata": {},
   "source": [
    "<h3>Lambda functions</h3>"
   ]
  },
  {
   "cell_type": "code",
   "execution_count": null,
   "id": "7b798c00",
   "metadata": {},
   "outputs": [],
   "source": [
    "list1 = [0,1,2,3,4,5,6,7,8,9]"
   ]
  },
  {
   "cell_type": "code",
   "execution_count": null,
   "id": "2d1aa554",
   "metadata": {},
   "outputs": [],
   "source": [
    "lambda_even = lambda x: x % 2 == 0"
   ]
  },
  {
   "cell_type": "code",
   "execution_count": null,
   "id": "09a74468",
   "metadata": {},
   "outputs": [],
   "source": [
    "even_numbers = filter(lambda_even, list1)"
   ]
  },
  {
   "cell_type": "code",
   "execution_count": null,
   "id": "76fb75ba",
   "metadata": {},
   "outputs": [],
   "source": [
    "def justOdd(x):\n",
    "    if (x%2 == 1):\n",
    "        return x"
   ]
  },
  {
   "cell_type": "code",
   "execution_count": null,
   "id": "b3b04455",
   "metadata": {},
   "outputs": [],
   "source": [
    "list1 = [-5,-4,-3,-2,-1,0]"
   ]
  },
  {
   "cell_type": "code",
   "execution_count": null,
   "id": "29d99b75",
   "metadata": {},
   "outputs": [],
   "source": [
    "oddNumbers = filter(justOdd,list1)"
   ]
  },
  {
   "cell_type": "code",
   "execution_count": null,
   "id": "59456c17",
   "metadata": {},
   "outputs": [],
   "source": [
    "for elem in oddNumbers:\n",
    "    print(elem)"
   ]
  },
  {
   "cell_type": "code",
   "execution_count": null,
   "id": "48429e1f",
   "metadata": {},
   "outputs": [],
   "source": [
    "even_numbers"
   ]
  },
  {
   "cell_type": "code",
   "execution_count": null,
   "id": "21fe96eb",
   "metadata": {},
   "outputs": [],
   "source": [
    "for elem in even_numbers:\n",
    "    print(elem)"
   ]
  },
  {
   "cell_type": "code",
   "execution_count": null,
   "id": "5ccf4c89",
   "metadata": {},
   "outputs": [],
   "source": [
    "def add(x,y):\n",
    "    return x + y\n",
    "\n",
    "sum = add(2,3)\n",
    "\n",
    "print(sum)"
   ]
  },
  {
   "cell_type": "code",
   "execution_count": null,
   "id": "ccc1c58d",
   "metadata": {},
   "outputs": [],
   "source": [
    "add_lambda= lambda x,y: x+y"
   ]
  },
  {
   "cell_type": "code",
   "execution_count": null,
   "id": "56aea510",
   "metadata": {},
   "outputs": [],
   "source": [
    "add_lambda(2,5)"
   ]
  },
  {
   "cell_type": "code",
   "execution_count": null,
   "id": "86339438",
   "metadata": {},
   "outputs": [],
   "source": [
    "def isOdd(x):\n",
    "    if x % 2 == 1:\n",
    "        return x\n",
    "list1 = [1,2,3,4,5,6]\n",
    "oddNumbers = filter(isOdd,list1)"
   ]
  },
  {
   "cell_type": "code",
   "execution_count": null,
   "id": "597d0bb9",
   "metadata": {},
   "outputs": [],
   "source": [
    "isEven = lambda x: x % 2 == 0"
   ]
  },
  {
   "cell_type": "code",
   "execution_count": null,
   "id": "9b0e4610",
   "metadata": {},
   "outputs": [],
   "source": [
    "list1 = [i for i in range(100)]"
   ]
  },
  {
   "cell_type": "code",
   "execution_count": null,
   "id": "6b209634",
   "metadata": {},
   "outputs": [],
   "source": [
    "evenNo = filter(isEven,list1)"
   ]
  },
  {
   "cell_type": "code",
   "execution_count": null,
   "id": "dc6c07f4",
   "metadata": {},
   "outputs": [],
   "source": [
    "print(oddNumbers)"
   ]
  },
  {
   "cell_type": "code",
   "execution_count": null,
   "id": "ec29ea50",
   "metadata": {},
   "outputs": [],
   "source": [
    "for elem in oddNumbers:\n",
    "    print(elem)"
   ]
  },
  {
   "cell_type": "code",
   "execution_count": null,
   "id": "1d23d6c5",
   "metadata": {},
   "outputs": [],
   "source": [
    "squares = []"
   ]
  },
  {
   "cell_type": "code",
   "execution_count": null,
   "id": "d473ca48",
   "metadata": {},
   "outputs": [],
   "source": [
    "squareFunction = lambda x : x*x"
   ]
  },
  {
   "cell_type": "code",
   "execution_count": null,
   "id": "7d383c6e",
   "metadata": {},
   "outputs": [],
   "source": [
    "list1 = [i for i in range(7)]"
   ]
  },
  {
   "cell_type": "code",
   "execution_count": null,
   "id": "6649a5c0",
   "metadata": {},
   "outputs": [],
   "source": [
    "squares = map(squareFunction,list1)"
   ]
  },
  {
   "cell_type": "code",
   "execution_count": null,
   "id": "9246081f",
   "metadata": {},
   "outputs": [],
   "source": [
    "for elem in squares: \n",
    "    print(elem)"
   ]
  },
  {
   "cell_type": "markdown",
   "id": "6460ba55",
   "metadata": {},
   "source": [
    "<h3>*args and **kwargs</h3>"
   ]
  },
  {
   "cell_type": "code",
   "execution_count": null,
   "id": "02029fc4",
   "metadata": {},
   "outputs": [],
   "source": [
    "def variableNoOfElements(*args):\n",
    "    for arg in args:\n",
    "        print(arg)\n",
    "\n",
    "variableNoOfElements(1,2,3,4)"
   ]
  },
  {
   "cell_type": "code",
   "execution_count": null,
   "id": "9a7c0341",
   "metadata": {},
   "outputs": [],
   "source": [
    "dict1 = {\n",
    "    'a':1,\n",
    "    'b':2\n",
    "}"
   ]
  },
  {
   "cell_type": "code",
   "execution_count": null,
   "id": "b2795590",
   "metadata": {},
   "outputs": [],
   "source": [
    "def iterateThroughDict(**kwargs):\n",
    "    for key,value in kwargs.items():\n",
    "        print(key)\n",
    "        print(value)\n",
    "\n",
    "iterateThroughDict(name = 'Marius', age = 28)"
   ]
  },
  {
   "cell_type": "markdown",
   "id": "06780944",
   "metadata": {},
   "source": [
    "<h3>Scope in Python</h3>"
   ]
  },
  {
   "cell_type": "code",
   "execution_count": null,
   "id": "be9de97f",
   "metadata": {},
   "outputs": [],
   "source": [
    "def printValue():\n",
    "    x = 3\n",
    "    print(x)\n",
    "\n",
    "x = 4\n",
    "printValue()"
   ]
  },
  {
   "cell_type": "markdown",
   "id": "d19841f1",
   "metadata": {},
   "source": [
    "<h3>Dictionary comprehension</h3>"
   ]
  },
  {
   "cell_type": "code",
   "execution_count": null,
   "id": "86c72f9e",
   "metadata": {},
   "outputs": [],
   "source": [
    "squaresDict = {i: i*i for i in range(6)}"
   ]
  },
  {
   "cell_type": "code",
   "execution_count": null,
   "id": "c1937fcf",
   "metadata": {},
   "outputs": [],
   "source": [
    "squaresDict"
   ]
  },
  {
   "cell_type": "markdown",
   "id": "95f7eae1",
   "metadata": {},
   "source": [
    "<h3>Iterators</h3>"
   ]
  },
  {
   "cell_type": "code",
   "execution_count": null,
   "id": "992016cd",
   "metadata": {},
   "outputs": [],
   "source": [
    "list1 = [1,2,3,4]"
   ]
  },
  {
   "cell_type": "code",
   "execution_count": null,
   "id": "ddc2f407",
   "metadata": {},
   "outputs": [],
   "source": [
    "iterList = iter(list1)"
   ]
  },
  {
   "cell_type": "code",
   "execution_count": null,
   "id": "df720a66",
   "metadata": {},
   "outputs": [],
   "source": [
    "print(next(iterList))"
   ]
  },
  {
   "cell_type": "markdown",
   "id": "ea7d6e71",
   "metadata": {},
   "source": [
    "<h3>Generators</h3>"
   ]
  },
  {
   "cell_type": "code",
   "execution_count": null,
   "id": "77498f82",
   "metadata": {},
   "outputs": [],
   "source": [
    "def count(n):\n",
    "    i = 0\n",
    "    while(i < n):\n",
    "        yield i\n",
    "        i += 1\n",
    "        \n",
    "counter = count(5)"
   ]
  },
  {
   "cell_type": "code",
   "execution_count": null,
   "id": "c970a616",
   "metadata": {},
   "outputs": [],
   "source": [
    "print(next(counter))"
   ]
  },
  {
   "cell_type": "markdown",
   "id": "b60174e7",
   "metadata": {},
   "source": [
    "<h3>OOP Concepts</h3>"
   ]
  },
  {
   "cell_type": "code",
   "execution_count": 16,
   "id": "8cf0d44e",
   "metadata": {},
   "outputs": [],
   "source": [
    "class Book():\n",
    "    def __init__(self, idBook, title):\n",
    "        self.idBook = idBook\n",
    "        self.title = title\n",
    "    \n",
    "    def __str__(self):\n",
    "        return self.idBook + ' ' + self.title"
   ]
  },
  {
   "cell_type": "code",
   "execution_count": 17,
   "id": "5df21bf0",
   "metadata": {},
   "outputs": [],
   "source": [
    "class LibraryView:\n",
    "    def __init__(self):\n",
    "        pass\n",
    "    def printMessage(self,message):\n",
    "        print(message)\n",
    "    def getInput(self,message):\n",
    "        return input(message)"
   ]
  },
  {
   "cell_type": "code",
   "execution_count": 18,
   "id": "a1ef7f48",
   "metadata": {},
   "outputs": [],
   "source": [
    "class LibraryModel:\n",
    "    def __init__(self):\n",
    "        self.books = []\n",
    "    def addBook(self, book):\n",
    "        self.books.append(book)\n",
    "    def displayBooks(self):\n",
    "        for book in self.books:\n",
    "            print(book)"
   ]
  },
  {
   "cell_type": "code",
   "execution_count": 22,
   "id": "9cfe8164",
   "metadata": {},
   "outputs": [],
   "source": [
    "class LibraryController:\n",
    "    def __init__(self,model,view):\n",
    "        self.model = model\n",
    "        self.view = view\n",
    "    \n",
    "    \n",
    "    def addBook(self):\n",
    "        idBook = self.view.getInput('Insert id:')\n",
    "        title = self.view.getInput('Insert title:')\n",
    "        book = Book(idBook, title)\n",
    "        self.model.addBook(book)\n",
    "    \n",
    "    def displayBooks(self):\n",
    "        self.model.displayBooks()\n",
    "        \n",
    "    def run(self):\n",
    "        while(1):\n",
    "            self.view.printMessage('1. Add book')\n",
    "            self.view.printMessage('2. Display books')\n",
    "            choice = self.view.getInput('Pick choice')\n",
    "            if choice == '1':\n",
    "                self.addBook()    \n",
    "            if choice == '2':\n",
    "                self.displayBooks()"
   ]
  },
  {
   "cell_type": "code",
   "execution_count": 23,
   "id": "dd8b8638",
   "metadata": {},
   "outputs": [],
   "source": [
    "def main():\n",
    "    \n",
    "    libraryModel = LibraryModel()\n",
    "    libraryView = LibraryView()\n",
    "    \n",
    "    \n",
    "    libraryController = LibraryController(libraryModel,libraryView)\n",
    "    \n",
    "    libraryController.run()"
   ]
  },
  {
   "cell_type": "code",
   "execution_count": 24,
   "id": "98f42c5f",
   "metadata": {
    "scrolled": true
   },
   "outputs": [
    {
     "name": "stdout",
     "output_type": "stream",
     "text": [
      "1. Add book\n",
      "2. Display books\n",
      "Pick choice1\n",
      "Insert id:1\n",
      "Insert title:Marius\n",
      "1. Add book\n",
      "2. Display books\n",
      "Pick choice2\n",
      "1 Marius\n",
      "1. Add book\n",
      "2. Display books\n"
     ]
    },
    {
     "ename": "KeyboardInterrupt",
     "evalue": "Interrupted by user",
     "output_type": "error",
     "traceback": [
      "\u001b[1;31m---------------------------------------------------------------------------\u001b[0m",
      "\u001b[1;31mKeyboardInterrupt\u001b[0m                         Traceback (most recent call last)",
      "\u001b[1;32m<ipython-input-24-263240bbee7e>\u001b[0m in \u001b[0;36m<module>\u001b[1;34m\u001b[0m\n\u001b[1;32m----> 1\u001b[1;33m \u001b[0mmain\u001b[0m\u001b[1;33m(\u001b[0m\u001b[1;33m)\u001b[0m\u001b[1;33m\u001b[0m\u001b[1;33m\u001b[0m\u001b[0m\n\u001b[0m",
      "\u001b[1;32m<ipython-input-23-75ebcbe5838f>\u001b[0m in \u001b[0;36mmain\u001b[1;34m()\u001b[0m\n\u001b[0;32m      7\u001b[0m     \u001b[0mlibraryController\u001b[0m \u001b[1;33m=\u001b[0m \u001b[0mLibraryController\u001b[0m\u001b[1;33m(\u001b[0m\u001b[0mlibraryModel\u001b[0m\u001b[1;33m,\u001b[0m\u001b[0mlibraryView\u001b[0m\u001b[1;33m)\u001b[0m\u001b[1;33m\u001b[0m\u001b[1;33m\u001b[0m\u001b[0m\n\u001b[0;32m      8\u001b[0m \u001b[1;33m\u001b[0m\u001b[0m\n\u001b[1;32m----> 9\u001b[1;33m     \u001b[0mlibraryController\u001b[0m\u001b[1;33m.\u001b[0m\u001b[0mrun\u001b[0m\u001b[1;33m(\u001b[0m\u001b[1;33m)\u001b[0m\u001b[1;33m\u001b[0m\u001b[1;33m\u001b[0m\u001b[0m\n\u001b[0m",
      "\u001b[1;32m<ipython-input-22-b6f3bf1ea0d0>\u001b[0m in \u001b[0;36mrun\u001b[1;34m(self)\u001b[0m\n\u001b[0;32m     18\u001b[0m             \u001b[0mself\u001b[0m\u001b[1;33m.\u001b[0m\u001b[0mview\u001b[0m\u001b[1;33m.\u001b[0m\u001b[0mprintMessage\u001b[0m\u001b[1;33m(\u001b[0m\u001b[1;34m'1. Add book'\u001b[0m\u001b[1;33m)\u001b[0m\u001b[1;33m\u001b[0m\u001b[1;33m\u001b[0m\u001b[0m\n\u001b[0;32m     19\u001b[0m             \u001b[0mself\u001b[0m\u001b[1;33m.\u001b[0m\u001b[0mview\u001b[0m\u001b[1;33m.\u001b[0m\u001b[0mprintMessage\u001b[0m\u001b[1;33m(\u001b[0m\u001b[1;34m'2. Display books'\u001b[0m\u001b[1;33m)\u001b[0m\u001b[1;33m\u001b[0m\u001b[1;33m\u001b[0m\u001b[0m\n\u001b[1;32m---> 20\u001b[1;33m             \u001b[0mchoice\u001b[0m \u001b[1;33m=\u001b[0m \u001b[0mself\u001b[0m\u001b[1;33m.\u001b[0m\u001b[0mview\u001b[0m\u001b[1;33m.\u001b[0m\u001b[0mgetInput\u001b[0m\u001b[1;33m(\u001b[0m\u001b[1;34m'Pick choice'\u001b[0m\u001b[1;33m)\u001b[0m\u001b[1;33m\u001b[0m\u001b[1;33m\u001b[0m\u001b[0m\n\u001b[0m\u001b[0;32m     21\u001b[0m             \u001b[1;32mif\u001b[0m \u001b[0mchoice\u001b[0m \u001b[1;33m==\u001b[0m \u001b[1;34m'1'\u001b[0m\u001b[1;33m:\u001b[0m\u001b[1;33m\u001b[0m\u001b[1;33m\u001b[0m\u001b[0m\n\u001b[0;32m     22\u001b[0m                 \u001b[0mself\u001b[0m\u001b[1;33m.\u001b[0m\u001b[0maddBook\u001b[0m\u001b[1;33m(\u001b[0m\u001b[1;33m)\u001b[0m\u001b[1;33m\u001b[0m\u001b[1;33m\u001b[0m\u001b[0m\n",
      "\u001b[1;32m<ipython-input-17-e8a7edc95544>\u001b[0m in \u001b[0;36mgetInput\u001b[1;34m(self, message)\u001b[0m\n\u001b[0;32m      5\u001b[0m         \u001b[0mprint\u001b[0m\u001b[1;33m(\u001b[0m\u001b[0mmessage\u001b[0m\u001b[1;33m)\u001b[0m\u001b[1;33m\u001b[0m\u001b[1;33m\u001b[0m\u001b[0m\n\u001b[0;32m      6\u001b[0m     \u001b[1;32mdef\u001b[0m \u001b[0mgetInput\u001b[0m\u001b[1;33m(\u001b[0m\u001b[0mself\u001b[0m\u001b[1;33m,\u001b[0m\u001b[0mmessage\u001b[0m\u001b[1;33m)\u001b[0m\u001b[1;33m:\u001b[0m\u001b[1;33m\u001b[0m\u001b[1;33m\u001b[0m\u001b[0m\n\u001b[1;32m----> 7\u001b[1;33m         \u001b[1;32mreturn\u001b[0m \u001b[0minput\u001b[0m\u001b[1;33m(\u001b[0m\u001b[0mmessage\u001b[0m\u001b[1;33m)\u001b[0m\u001b[1;33m\u001b[0m\u001b[1;33m\u001b[0m\u001b[0m\n\u001b[0m",
      "\u001b[1;32mc:\\users\\hp\\appdata\\local\\programs\\python\\python36\\lib\\site-packages\\ipykernel\\kernelbase.py\u001b[0m in \u001b[0;36mraw_input\u001b[1;34m(self, prompt)\u001b[0m\n\u001b[0;32m    852\u001b[0m             \u001b[0mself\u001b[0m\u001b[1;33m.\u001b[0m\u001b[0m_parent_ident\u001b[0m\u001b[1;33m,\u001b[0m\u001b[1;33m\u001b[0m\u001b[1;33m\u001b[0m\u001b[0m\n\u001b[0;32m    853\u001b[0m             \u001b[0mself\u001b[0m\u001b[1;33m.\u001b[0m\u001b[0m_parent_header\u001b[0m\u001b[1;33m,\u001b[0m\u001b[1;33m\u001b[0m\u001b[1;33m\u001b[0m\u001b[0m\n\u001b[1;32m--> 854\u001b[1;33m             \u001b[0mpassword\u001b[0m\u001b[1;33m=\u001b[0m\u001b[1;32mFalse\u001b[0m\u001b[1;33m,\u001b[0m\u001b[1;33m\u001b[0m\u001b[1;33m\u001b[0m\u001b[0m\n\u001b[0m\u001b[0;32m    855\u001b[0m         )\n\u001b[0;32m    856\u001b[0m \u001b[1;33m\u001b[0m\u001b[0m\n",
      "\u001b[1;32mc:\\users\\hp\\appdata\\local\\programs\\python\\python36\\lib\\site-packages\\ipykernel\\kernelbase.py\u001b[0m in \u001b[0;36m_input_request\u001b[1;34m(self, prompt, ident, parent, password)\u001b[0m\n\u001b[0;32m    893\u001b[0m             \u001b[1;32mexcept\u001b[0m \u001b[0mKeyboardInterrupt\u001b[0m\u001b[1;33m:\u001b[0m\u001b[1;33m\u001b[0m\u001b[1;33m\u001b[0m\u001b[0m\n\u001b[0;32m    894\u001b[0m                 \u001b[1;31m# re-raise KeyboardInterrupt, to truncate traceback\u001b[0m\u001b[1;33m\u001b[0m\u001b[1;33m\u001b[0m\u001b[1;33m\u001b[0m\u001b[0m\n\u001b[1;32m--> 895\u001b[1;33m                 \u001b[1;32mraise\u001b[0m \u001b[0mKeyboardInterrupt\u001b[0m\u001b[1;33m(\u001b[0m\u001b[1;34m\"Interrupted by user\"\u001b[0m\u001b[1;33m)\u001b[0m \u001b[1;32mfrom\u001b[0m \u001b[1;32mNone\u001b[0m\u001b[1;33m\u001b[0m\u001b[1;33m\u001b[0m\u001b[0m\n\u001b[0m\u001b[0;32m    896\u001b[0m             \u001b[1;32mexcept\u001b[0m \u001b[0mException\u001b[0m \u001b[1;32mas\u001b[0m \u001b[0me\u001b[0m\u001b[1;33m:\u001b[0m\u001b[1;33m\u001b[0m\u001b[1;33m\u001b[0m\u001b[0m\n\u001b[0;32m    897\u001b[0m                 \u001b[0mself\u001b[0m\u001b[1;33m.\u001b[0m\u001b[0mlog\u001b[0m\u001b[1;33m.\u001b[0m\u001b[0mwarning\u001b[0m\u001b[1;33m(\u001b[0m\u001b[1;34m\"Invalid Message:\"\u001b[0m\u001b[1;33m,\u001b[0m \u001b[0mexc_info\u001b[0m\u001b[1;33m=\u001b[0m\u001b[1;32mTrue\u001b[0m\u001b[1;33m)\u001b[0m\u001b[1;33m\u001b[0m\u001b[1;33m\u001b[0m\u001b[0m\n",
      "\u001b[1;31mKeyboardInterrupt\u001b[0m: Interrupted by user"
     ]
    }
   ],
   "source": [
    "main()"
   ]
  },
  {
   "cell_type": "markdown",
   "id": "399ab107",
   "metadata": {},
   "source": [
    "<h4>Getters and setters</h4>"
   ]
  },
  {
   "cell_type": "code",
   "execution_count": 68,
   "id": "e05bd591",
   "metadata": {},
   "outputs": [],
   "source": [
    "class Book:\n",
    "    def __init__(self,idBook,title):\n",
    "        self._idBook = idBook\n",
    "        self._title = title\n",
    "    \n",
    "    @property \n",
    "    def title(self):\n",
    "        return self._title\n",
    "    \n",
    "    \n",
    "    @title.setter\n",
    "    def title(self,title):\n",
    "        self._title = title\n",
    "        \n",
    "    def __str__(self):\n",
    "        return self._idBook + ' ' + self._title\n",
    "        "
   ]
  },
  {
   "cell_type": "code",
   "execution_count": 69,
   "id": "3fb47719",
   "metadata": {},
   "outputs": [],
   "source": [
    "book = Book('1','Marius')"
   ]
  },
  {
   "cell_type": "code",
   "execution_count": 70,
   "id": "52adc7e4",
   "metadata": {},
   "outputs": [],
   "source": [
    "book.title = 'Dragos'"
   ]
  },
  {
   "cell_type": "code",
   "execution_count": 71,
   "id": "16f74400",
   "metadata": {},
   "outputs": [
    {
     "name": "stdout",
     "output_type": "stream",
     "text": [
      "Dragos\n"
     ]
    }
   ],
   "source": [
    "print(book.title)"
   ]
  },
  {
   "cell_type": "code",
   "execution_count": 72,
   "id": "c7d433d9",
   "metadata": {},
   "outputs": [
    {
     "name": "stdout",
     "output_type": "stream",
     "text": [
      "1 Dragos\n"
     ]
    }
   ],
   "source": [
    "print(book)"
   ]
  },
  {
   "cell_type": "markdown",
   "id": "4bc733f4",
   "metadata": {},
   "source": [
    "<h3>Write beautiful code in Python</h3>"
   ]
  },
  {
   "cell_type": "code",
   "execution_count": 73,
   "id": "6beceff7",
   "metadata": {},
   "outputs": [],
   "source": [
    "colors = ['blue','green','yellow','red']"
   ]
  },
  {
   "cell_type": "code",
   "execution_count": 75,
   "id": "d6debfb8",
   "metadata": {},
   "outputs": [
    {
     "name": "stdout",
     "output_type": "stream",
     "text": [
      "blue\n",
      "green\n",
      "yellow\n",
      "red\n"
     ]
    }
   ],
   "source": [
    "for i in range(len(colors)):\n",
    "    print(colors[i])"
   ]
  },
  {
   "cell_type": "code",
   "execution_count": 76,
   "id": "56ae23f1",
   "metadata": {},
   "outputs": [
    {
     "name": "stdout",
     "output_type": "stream",
     "text": [
      "blue\n",
      "green\n",
      "yellow\n",
      "red\n"
     ]
    }
   ],
   "source": [
    "for color in colors:\n",
    "    print(color)"
   ]
  },
  {
   "cell_type": "code",
   "execution_count": 77,
   "id": "5359eb73",
   "metadata": {},
   "outputs": [
    {
     "name": "stdout",
     "output_type": "stream",
     "text": [
      "red\n",
      "yellow\n",
      "green\n",
      "blue\n"
     ]
    }
   ],
   "source": [
    "for i in range(len(colors) - 1, -1, -1):\n",
    "    print(colors[i])"
   ]
  },
  {
   "cell_type": "code",
   "execution_count": 78,
   "id": "b6c3c9dd",
   "metadata": {},
   "outputs": [
    {
     "name": "stdout",
     "output_type": "stream",
     "text": [
      "red\n",
      "yellow\n",
      "green\n",
      "blue\n"
     ]
    }
   ],
   "source": [
    "for color in reversed(colors):\n",
    "    print(color)"
   ]
  },
  {
   "cell_type": "code",
   "execution_count": 84,
   "id": "e3093d9b",
   "metadata": {},
   "outputs": [
    {
     "name": "stdout",
     "output_type": "stream",
     "text": [
      "0\n",
      "blue\n",
      "1\n",
      "green\n",
      "2\n",
      "yellow\n",
      "3\n",
      "red\n"
     ]
    }
   ],
   "source": [
    "for index, color in enumerate(colors):\n",
    "    print(index)\n",
    "    print(color)"
   ]
  },
  {
   "cell_type": "code",
   "execution_count": 81,
   "id": "0c240b0b",
   "metadata": {},
   "outputs": [
    {
     "name": "stdout",
     "output_type": "stream",
     "text": [
      "1\n",
      "6\n",
      "2\n",
      "7\n",
      "3\n",
      "8\n",
      "4\n",
      "9\n",
      "5\n",
      "10\n"
     ]
    }
   ],
   "source": [
    "arr1 = [1,2,3,4,5]\n",
    "arr2 = [6,7,8,9,10]\n",
    "\n",
    "for value1, value2 in zip(arr1,arr2):\n",
    "    print(value1) \n",
    "    print(value2)"
   ]
  }
 ],
 "metadata": {
  "kernelspec": {
   "display_name": "Python 3",
   "language": "python",
   "name": "python3"
  },
  "language_info": {
   "codemirror_mode": {
    "name": "ipython",
    "version": 3
   },
   "file_extension": ".py",
   "mimetype": "text/x-python",
   "name": "python",
   "nbconvert_exporter": "python",
   "pygments_lexer": "ipython3",
   "version": "3.6.8"
  }
 },
 "nbformat": 4,
 "nbformat_minor": 5
}
